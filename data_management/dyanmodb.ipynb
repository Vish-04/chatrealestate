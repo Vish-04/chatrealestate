{
 "cells": [
  {
   "cell_type": "code",
   "execution_count": 1,
   "metadata": {},
   "outputs": [],
   "source": [
    "import pandas as pd \n",
    "import numpy as np\n",
    "final = pd.read_csv('final_listings.csv')"
   ]
  },
  {
   "cell_type": "code",
   "execution_count": 2,
   "metadata": {},
   "outputs": [
    {
     "data": {
      "text/plain": [
       "21"
      ]
     },
     "execution_count": 2,
     "metadata": {},
     "output_type": "execute_result"
    }
   ],
   "source": [
    "sum(final['listing_detail_price'].isna())"
   ]
  },
  {
   "cell_type": "code",
   "execution_count": 3,
   "metadata": {},
   "outputs": [
    {
     "data": {
      "text/html": [
       "<div>\n",
       "<style scoped>\n",
       "    .dataframe tbody tr th:only-of-type {\n",
       "        vertical-align: middle;\n",
       "    }\n",
       "\n",
       "    .dataframe tbody tr th {\n",
       "        vertical-align: top;\n",
       "    }\n",
       "\n",
       "    .dataframe thead th {\n",
       "        text-align: right;\n",
       "    }\n",
       "</style>\n",
       "<table border=\"1\" class=\"dataframe\">\n",
       "  <thead>\n",
       "    <tr style=\"text-align: right;\">\n",
       "      <th></th>\n",
       "      <th>index</th>\n",
       "      <th>listing_url</th>\n",
       "      <th>zipcode</th>\n",
       "      <th>property_description</th>\n",
       "      <th>Year Built</th>\n",
       "      <th>property_images</th>\n",
       "      <th>Property Condition</th>\n",
       "      <th>listing_detail_price</th>\n",
       "      <th>Dining Room Features</th>\n",
       "      <th>Patio And Porch Features</th>\n",
       "      <th>...</th>\n",
       "      <th>Remodeled/Updated</th>\n",
       "      <th>Open Parking Spaces</th>\n",
       "      <th># of Units</th>\n",
       "      <th>highlights_text</th>\n",
       "      <th>School District (County)</th>\n",
       "      <th>Flooring</th>\n",
       "      <th>Architectural Style</th>\n",
       "      <th>County</th>\n",
       "      <th>Pool</th>\n",
       "      <th>listing_detail_label</th>\n",
       "    </tr>\n",
       "  </thead>\n",
       "  <tbody>\n",
       "    <tr>\n",
       "      <th>0</th>\n",
       "      <td>0</td>\n",
       "      <td>https://www.metrolist.com/search/For_Sale-For_...</td>\n",
       "      <td>94110.0</td>\n",
       "      <td>Tucked behind a Victorian faade under a canopy...</td>\n",
       "      <td>1900.0</td>\n",
       "      <td>['http://sfarmedia.rapmls.com/sfarmls/listingp...</td>\n",
       "      <td>Updated/Remodeled</td>\n",
       "      <td>$799,000</td>\n",
       "      <td>NaN</td>\n",
       "      <td>Uncovered Patio</td>\n",
       "      <td>...</td>\n",
       "      <td>Yes</td>\n",
       "      <td>0.0</td>\n",
       "      <td>2.0</td>\n",
       "      <td>2 Bedrooms1 BathroomsStatus ActiveCondominiumM...</td>\n",
       "      <td>NaN</td>\n",
       "      <td>Tile, Concrete</td>\n",
       "      <td>NaN</td>\n",
       "      <td>San Francisco</td>\n",
       "      <td>NaN</td>\n",
       "      <td>932 Hampshire St #A San Francisco, CA 94110</td>\n",
       "    </tr>\n",
       "    <tr>\n",
       "      <th>1</th>\n",
       "      <td>1</td>\n",
       "      <td>https://www.metrolist.com/search/For_Sale-For_...</td>\n",
       "      <td>94110.0</td>\n",
       "      <td>Tucked behind a Victorian faade under a canopy...</td>\n",
       "      <td>1900.0</td>\n",
       "      <td>['http://sfarmedia.rapmls.com/sfarmls/listingp...</td>\n",
       "      <td>Updated/Remodeled</td>\n",
       "      <td>$799,000</td>\n",
       "      <td>NaN</td>\n",
       "      <td>Uncovered Patio</td>\n",
       "      <td>...</td>\n",
       "      <td>Yes</td>\n",
       "      <td>0.0</td>\n",
       "      <td>2.0</td>\n",
       "      <td>2 Bedrooms1 BathroomsStatus ActiveCondominiumM...</td>\n",
       "      <td>NaN</td>\n",
       "      <td>Tile, Concrete</td>\n",
       "      <td>NaN</td>\n",
       "      <td>San Francisco</td>\n",
       "      <td>NaN</td>\n",
       "      <td>932 Hampshire St #A San Francisco, CA 94110</td>\n",
       "    </tr>\n",
       "    <tr>\n",
       "      <th>2</th>\n",
       "      <td>2</td>\n",
       "      <td>https://www.metrolist.com/search/For_Sale-For_...</td>\n",
       "      <td>94133.0</td>\n",
       "      <td>Residence No. 4 offers a 3-level townhouse-sty...</td>\n",
       "      <td>1988.0</td>\n",
       "      <td>['http://sfarmedia.rapmls.com/sfarmls/listingp...</td>\n",
       "      <td>Updated/Remodeled</td>\n",
       "      <td>$2,600,000</td>\n",
       "      <td>Formal Area</td>\n",
       "      <td>Uncovered Patio, Uncovered Deck</td>\n",
       "      <td>...</td>\n",
       "      <td>NaN</td>\n",
       "      <td>0.0</td>\n",
       "      <td>20.0</td>\n",
       "      <td>3 Bedrooms4 BathroomsStatus ActiveCondominiumM...</td>\n",
       "      <td>NaN</td>\n",
       "      <td>Wood, Tile, Marble, Carpet</td>\n",
       "      <td>Mediterranean, Contemporary</td>\n",
       "      <td>San Francisco</td>\n",
       "      <td>NaN</td>\n",
       "      <td>186 Francisco St #4 San Francisco, CA 94133</td>\n",
       "    </tr>\n",
       "    <tr>\n",
       "      <th>3</th>\n",
       "      <td>3</td>\n",
       "      <td>https://www.metrolist.com/search/For_Sale-For_...</td>\n",
       "      <td>94133.0</td>\n",
       "      <td>Residence No. 4 offers a 3-level townhouse-sty...</td>\n",
       "      <td>1988.0</td>\n",
       "      <td>['http://sfarmedia.rapmls.com/sfarmls/listingp...</td>\n",
       "      <td>Updated/Remodeled</td>\n",
       "      <td>$2,600,000</td>\n",
       "      <td>Formal Area</td>\n",
       "      <td>Uncovered Patio, Uncovered Deck</td>\n",
       "      <td>...</td>\n",
       "      <td>NaN</td>\n",
       "      <td>0.0</td>\n",
       "      <td>20.0</td>\n",
       "      <td>3 Bedrooms4 BathroomsStatus ActiveCondominiumM...</td>\n",
       "      <td>NaN</td>\n",
       "      <td>Wood, Tile, Marble, Carpet</td>\n",
       "      <td>Mediterranean, Contemporary</td>\n",
       "      <td>San Francisco</td>\n",
       "      <td>NaN</td>\n",
       "      <td>186 Francisco St #4 San Francisco, CA 94133</td>\n",
       "    </tr>\n",
       "    <tr>\n",
       "      <th>4</th>\n",
       "      <td>4</td>\n",
       "      <td>https://www.metrolist.com/search/For_Sale-For_...</td>\n",
       "      <td>94002.0</td>\n",
       "      <td>A 7-year new townhome nestled in the heart of ...</td>\n",
       "      <td>2017.0</td>\n",
       "      <td>['http://sfarmedia.rapmls.com/sfarmls/listingp...</td>\n",
       "      <td>Original</td>\n",
       "      <td>$1,180,000</td>\n",
       "      <td>Dining/Family Combo</td>\n",
       "      <td>Uncovered Patio, Uncovered Deck</td>\n",
       "      <td>...</td>\n",
       "      <td>No</td>\n",
       "      <td>0.0</td>\n",
       "      <td>0.0</td>\n",
       "      <td>2 Bedrooms2 Bathrooms1035 sq ftStatus ActiveTo...</td>\n",
       "      <td>San Mateo</td>\n",
       "      <td>Wood, Tile, Laminate, Carpet</td>\n",
       "      <td>NaN</td>\n",
       "      <td>San Mateo</td>\n",
       "      <td>No</td>\n",
       "      <td>2135 Carlmont Dr Belmont, CA 94002</td>\n",
       "    </tr>\n",
       "  </tbody>\n",
       "</table>\n",
       "<p>5 rows × 51 columns</p>\n",
       "</div>"
      ],
      "text/plain": [
       "   index                                        listing_url  zipcode  \\\n",
       "0      0  https://www.metrolist.com/search/For_Sale-For_...  94110.0   \n",
       "1      1  https://www.metrolist.com/search/For_Sale-For_...  94110.0   \n",
       "2      2  https://www.metrolist.com/search/For_Sale-For_...  94133.0   \n",
       "3      3  https://www.metrolist.com/search/For_Sale-For_...  94133.0   \n",
       "4      4  https://www.metrolist.com/search/For_Sale-For_...  94002.0   \n",
       "\n",
       "                                property_description  Year Built  \\\n",
       "0  Tucked behind a Victorian faade under a canopy...      1900.0   \n",
       "1  Tucked behind a Victorian faade under a canopy...      1900.0   \n",
       "2  Residence No. 4 offers a 3-level townhouse-sty...      1988.0   \n",
       "3  Residence No. 4 offers a 3-level townhouse-sty...      1988.0   \n",
       "4  A 7-year new townhome nestled in the heart of ...      2017.0   \n",
       "\n",
       "                                     property_images Property Condition  \\\n",
       "0  ['http://sfarmedia.rapmls.com/sfarmls/listingp...  Updated/Remodeled   \n",
       "1  ['http://sfarmedia.rapmls.com/sfarmls/listingp...  Updated/Remodeled   \n",
       "2  ['http://sfarmedia.rapmls.com/sfarmls/listingp...  Updated/Remodeled   \n",
       "3  ['http://sfarmedia.rapmls.com/sfarmls/listingp...  Updated/Remodeled   \n",
       "4  ['http://sfarmedia.rapmls.com/sfarmls/listingp...           Original   \n",
       "\n",
       "  listing_detail_price Dining Room Features         Patio And Porch Features  \\\n",
       "0             $799,000                  NaN                  Uncovered Patio   \n",
       "1             $799,000                  NaN                  Uncovered Patio   \n",
       "2           $2,600,000          Formal Area  Uncovered Patio, Uncovered Deck   \n",
       "3           $2,600,000          Formal Area  Uncovered Patio, Uncovered Deck   \n",
       "4           $1,180,000  Dining/Family Combo  Uncovered Patio, Uncovered Deck   \n",
       "\n",
       "   ... Remodeled/Updated Open Parking Spaces # of Units  \\\n",
       "0  ...               Yes                 0.0        2.0   \n",
       "1  ...               Yes                 0.0        2.0   \n",
       "2  ...               NaN                 0.0       20.0   \n",
       "3  ...               NaN                 0.0       20.0   \n",
       "4  ...                No                 0.0        0.0   \n",
       "\n",
       "                                     highlights_text School District (County)  \\\n",
       "0  2 Bedrooms1 BathroomsStatus ActiveCondominiumM...                      NaN   \n",
       "1  2 Bedrooms1 BathroomsStatus ActiveCondominiumM...                      NaN   \n",
       "2  3 Bedrooms4 BathroomsStatus ActiveCondominiumM...                      NaN   \n",
       "3  3 Bedrooms4 BathroomsStatus ActiveCondominiumM...                      NaN   \n",
       "4  2 Bedrooms2 Bathrooms1035 sq ftStatus ActiveTo...                San Mateo   \n",
       "\n",
       "                       Flooring          Architectural Style         County  \\\n",
       "0                Tile, Concrete                          NaN  San Francisco   \n",
       "1                Tile, Concrete                          NaN  San Francisco   \n",
       "2    Wood, Tile, Marble, Carpet  Mediterranean, Contemporary  San Francisco   \n",
       "3    Wood, Tile, Marble, Carpet  Mediterranean, Contemporary  San Francisco   \n",
       "4  Wood, Tile, Laminate, Carpet                          NaN      San Mateo   \n",
       "\n",
       "  Pool                         listing_detail_label  \n",
       "0  NaN  932 Hampshire St #A San Francisco, CA 94110  \n",
       "1  NaN  932 Hampshire St #A San Francisco, CA 94110  \n",
       "2  NaN  186 Francisco St #4 San Francisco, CA 94133  \n",
       "3  NaN  186 Francisco St #4 San Francisco, CA 94133  \n",
       "4   No           2135 Carlmont Dr Belmont, CA 94002  \n",
       "\n",
       "[5 rows x 51 columns]"
      ]
     },
     "execution_count": 3,
     "metadata": {},
     "output_type": "execute_result"
    }
   ],
   "source": [
    "final.head()"
   ]
  },
  {
   "cell_type": "code",
   "execution_count": 4,
   "metadata": {},
   "outputs": [
    {
     "name": "stdout",
     "output_type": "stream",
     "text": [
      "<class 'pandas.core.frame.DataFrame'>\n",
      "RangeIndex: 4686 entries, 0 to 4685\n",
      "Data columns (total 51 columns):\n",
      " #   Column                            Non-Null Count  Dtype  \n",
      "---  ------                            --------------  -----  \n",
      " 0   index                             4686 non-null   int64  \n",
      " 1   listing_url                       4686 non-null   object \n",
      " 2   zipcode                           4679 non-null   float64\n",
      " 3   property_description              4627 non-null   object \n",
      " 4   Year Built                        4254 non-null   float64\n",
      " 5   property_images                   4686 non-null   object \n",
      " 6   Property Condition                1695 non-null   object \n",
      " 7   listing_detail_price              4665 non-null   object \n",
      " 8   Dining Room Features              2457 non-null   object \n",
      " 9   Patio And Porch Features          1398 non-null   object \n",
      " 10  Living Room Features              1356 non-null   object \n",
      " 11  Window Features                   1051 non-null   object \n",
      " 12  Bath Features                     2280 non-null   object \n",
      " 13  Parking Features                  3977 non-null   object \n",
      " 14  Master Bathroom Features          1523 non-null   object \n",
      " 15  Master Bedroom Features           1190 non-null   object \n",
      " 16  Cooling                           2820 non-null   object \n",
      " 17  Heating                           3843 non-null   object \n",
      " 18  Laundry Features                  3518 non-null   object \n",
      " 19  Lot Features                      3111 non-null   object \n",
      " 20  Interior Features                 1094 non-null   object \n",
      " 21  Kitchen Features                  2670 non-null   object \n",
      " 22  Association Features              972 non-null    object \n",
      " 23  Appliances                        2788 non-null   object \n",
      " 24  # of Fireplaces                   3716 non-null   float64\n",
      " 25  mls_number                        3517 non-null   object \n",
      " 26  Bathrooms                         3732 non-null   float64\n",
      " 27  Half Bathrooms                    3732 non-null   float64\n",
      " 28  Full Bathrooms                    3732 non-null   float64\n",
      " 29  Square Footage                    3956 non-null   float64\n",
      " 30  # of Rooms                        4033 non-null   float64\n",
      " 31  Area/District                     1141 non-null   object \n",
      " 32  listing_detail_monthly_cost       4307 non-null   object \n",
      " 33  Total Parking Spaces              4254 non-null   float64\n",
      " 34  Elementary School District        2156 non-null   object \n",
      " 35  Senior High School District       2119 non-null   object \n",
      " 36  Middle or Junior School District  1058 non-null   object \n",
      " 37  Roof                              2850 non-null   object \n",
      " 38  agent_link                        4374 non-null   object \n",
      " 39  Listing Agent Name                4686 non-null   object \n",
      " 40  Listing Office Name               4686 non-null   object \n",
      " 41  Remodeled/Updated                 1211 non-null   object \n",
      " 42  Open Parking Spaces               4033 non-null   float64\n",
      " 43  # of Units                        3716 non-null   float64\n",
      " 44  highlights_text                   4658 non-null   object \n",
      " 45  School District (County)          2266 non-null   object \n",
      " 46  Flooring                          3110 non-null   object \n",
      " 47  Architectural Style               1691 non-null   object \n",
      " 48  County                            4686 non-null   object \n",
      " 49  Pool                              2964 non-null   object \n",
      " 50  listing_detail_label              4686 non-null   object \n",
      "dtypes: float64(11), int64(1), object(39)\n",
      "memory usage: 1.8+ MB\n"
     ]
    }
   ],
   "source": [
    "final.info()"
   ]
  },
  {
   "cell_type": "code",
   "execution_count": 5,
   "metadata": {},
   "outputs": [
    {
     "data": {
      "text/plain": [
       "str"
      ]
     },
     "execution_count": 5,
     "metadata": {},
     "output_type": "execute_result"
    }
   ],
   "source": [
    "\n",
    "type(final['listing_detail_price'][0])\n",
    "\n",
    "\n",
    "\n"
   ]
  },
  {
   "cell_type": "code",
   "execution_count": 6,
   "metadata": {},
   "outputs": [],
   "source": [
    "import re\n",
    "def remove_comma_dollar(text):\n",
    "    text = str(text)\n",
    "    cleaned_text = re.sub(r'[,$]','',text)\n",
    "    return cleaned_text\n",
    "final['listing_detail_price'] = final['listing_detail_price'].apply(remove_comma_dollar)"
   ]
  },
  {
   "cell_type": "code",
   "execution_count": 7,
   "metadata": {},
   "outputs": [
    {
     "data": {
      "text/plain": [
       "434"
      ]
     },
     "execution_count": 7,
     "metadata": {},
     "output_type": "execute_result"
    }
   ],
   "source": [
    "sum(final['listing_detail_price']=='For Sale')"
   ]
  },
  {
   "cell_type": "code",
   "execution_count": 8,
   "metadata": {},
   "outputs": [
    {
     "data": {
      "text/plain": [
       "0"
      ]
     },
     "execution_count": 8,
     "metadata": {},
     "output_type": "execute_result"
    }
   ],
   "source": [
    "# Remove the dollar sign and commas, and handle non-numeric entries\n",
    "final['listing_detail_price'] = final['listing_detail_price'].replace('\\$,', '', regex=True)\n",
    "\n",
    "sum(final['listing_detail_price'].isna())\n",
    "\n"
   ]
  },
  {
   "cell_type": "code",
   "execution_count": 9,
   "metadata": {},
   "outputs": [
    {
     "data": {
      "text/plain": [
       "0     799000\n",
       "1     799000\n",
       "2    2600000\n",
       "3    2600000\n",
       "4    1180000\n",
       "Name: listing_detail_price, dtype: object"
      ]
     },
     "execution_count": 9,
     "metadata": {},
     "output_type": "execute_result"
    }
   ],
   "source": [
    "final['listing_detail_price'].head()"
   ]
  },
  {
   "cell_type": "code",
   "execution_count": 10,
   "metadata": {},
   "outputs": [
    {
     "data": {
      "text/plain": [
       "Index(['index', 'listing_url', 'zipcode', 'property_description', 'Year Built',\n",
       "       'property_images', 'Property Condition', 'listing_detail_price',\n",
       "       'Dining Room Features', 'Patio And Porch Features',\n",
       "       'Living Room Features', 'Window Features', 'Bath Features',\n",
       "       'Parking Features', 'Master Bathroom Features',\n",
       "       'Master Bedroom Features', 'Cooling', 'Heating', 'Laundry Features',\n",
       "       'Lot Features', 'Interior Features', 'Kitchen Features',\n",
       "       'Association Features', 'Appliances', '# of Fireplaces', 'mls_number',\n",
       "       'Bathrooms', 'Half Bathrooms', 'Full Bathrooms', 'Square Footage',\n",
       "       '# of Rooms', 'Area/District', 'listing_detail_monthly_cost',\n",
       "       'Total Parking Spaces', 'Elementary School District',\n",
       "       'Senior High School District', 'Middle or Junior School District',\n",
       "       'Roof', 'agent_link', 'Listing Agent Name', 'Listing Office Name',\n",
       "       'Remodeled/Updated', 'Open Parking Spaces', '# of Units',\n",
       "       'highlights_text', 'School District (County)', 'Flooring',\n",
       "       'Architectural Style', 'County', 'Pool', 'listing_detail_label'],\n",
       "      dtype='object')"
      ]
     },
     "execution_count": 10,
     "metadata": {},
     "output_type": "execute_result"
    }
   ],
   "source": [
    "final.columns"
   ]
  },
  {
   "cell_type": "code",
   "execution_count": 11,
   "metadata": {},
   "outputs": [
    {
     "name": "stdout",
     "output_type": "stream",
     "text": [
      "<class 'pandas.core.frame.DataFrame'>\n",
      "RangeIndex: 4686 entries, 0 to 4685\n",
      "Data columns (total 51 columns):\n",
      " #   Column                            Non-Null Count  Dtype  \n",
      "---  ------                            --------------  -----  \n",
      " 0   index                             4686 non-null   int64  \n",
      " 1   listing_url                       4686 non-null   object \n",
      " 2   zipcode                           4679 non-null   float64\n",
      " 3   property_description              4627 non-null   object \n",
      " 4   Year Built                        4254 non-null   float64\n",
      " 5   property_images                   4686 non-null   object \n",
      " 6   Property Condition                1695 non-null   object \n",
      " 7   listing_detail_price              4686 non-null   object \n",
      " 8   Dining Room Features              2457 non-null   object \n",
      " 9   Patio And Porch Features          1398 non-null   object \n",
      " 10  Living Room Features              1356 non-null   object \n",
      " 11  Window Features                   1051 non-null   object \n",
      " 12  Bath Features                     2280 non-null   object \n",
      " 13  Parking Features                  3977 non-null   object \n",
      " 14  Master Bathroom Features          1523 non-null   object \n",
      " 15  Master Bedroom Features           1190 non-null   object \n",
      " 16  Cooling                           2820 non-null   object \n",
      " 17  Heating                           3843 non-null   object \n",
      " 18  Laundry Features                  3518 non-null   object \n",
      " 19  Lot Features                      3111 non-null   object \n",
      " 20  Interior Features                 1094 non-null   object \n",
      " 21  Kitchen Features                  2670 non-null   object \n",
      " 22  Association Features              972 non-null    object \n",
      " 23  Appliances                        2788 non-null   object \n",
      " 24  # of Fireplaces                   3716 non-null   float64\n",
      " 25  mls_number                        3517 non-null   object \n",
      " 26  Bathrooms                         3732 non-null   float64\n",
      " 27  Half Bathrooms                    3732 non-null   float64\n",
      " 28  Full Bathrooms                    3732 non-null   float64\n",
      " 29  Square Footage                    3956 non-null   float64\n",
      " 30  # of Rooms                        4033 non-null   float64\n",
      " 31  Area/District                     1141 non-null   object \n",
      " 32  listing_detail_monthly_cost       4307 non-null   object \n",
      " 33  Total Parking Spaces              4254 non-null   float64\n",
      " 34  Elementary School District        2156 non-null   object \n",
      " 35  Senior High School District       2119 non-null   object \n",
      " 36  Middle or Junior School District  1058 non-null   object \n",
      " 37  Roof                              2850 non-null   object \n",
      " 38  agent_link                        4374 non-null   object \n",
      " 39  Listing Agent Name                4686 non-null   object \n",
      " 40  Listing Office Name               4686 non-null   object \n",
      " 41  Remodeled/Updated                 1211 non-null   object \n",
      " 42  Open Parking Spaces               4033 non-null   float64\n",
      " 43  # of Units                        3716 non-null   float64\n",
      " 44  highlights_text                   4658 non-null   object \n",
      " 45  School District (County)          2266 non-null   object \n",
      " 46  Flooring                          3110 non-null   object \n",
      " 47  Architectural Style               1691 non-null   object \n",
      " 48  County                            4686 non-null   object \n",
      " 49  Pool                              2964 non-null   object \n",
      " 50  listing_detail_label              4686 non-null   object \n",
      "dtypes: float64(11), int64(1), object(39)\n",
      "memory usage: 1.8+ MB\n"
     ]
    }
   ],
   "source": [
    "final.info()"
   ]
  },
  {
   "cell_type": "code",
   "execution_count": 12,
   "metadata": {},
   "outputs": [
    {
     "data": {
      "text/html": [
       "<div>\n",
       "<style scoped>\n",
       "    .dataframe tbody tr th:only-of-type {\n",
       "        vertical-align: middle;\n",
       "    }\n",
       "\n",
       "    .dataframe tbody tr th {\n",
       "        vertical-align: top;\n",
       "    }\n",
       "\n",
       "    .dataframe thead th {\n",
       "        text-align: right;\n",
       "    }\n",
       "</style>\n",
       "<table border=\"1\" class=\"dataframe\">\n",
       "  <thead>\n",
       "    <tr style=\"text-align: right;\">\n",
       "      <th></th>\n",
       "      <th>index</th>\n",
       "      <th>zipcode</th>\n",
       "      <th>Year Built</th>\n",
       "      <th># of Fireplaces</th>\n",
       "      <th>Bathrooms</th>\n",
       "      <th>Half Bathrooms</th>\n",
       "      <th>Full Bathrooms</th>\n",
       "      <th>Square Footage</th>\n",
       "      <th># of Rooms</th>\n",
       "      <th>Total Parking Spaces</th>\n",
       "      <th>Open Parking Spaces</th>\n",
       "      <th># of Units</th>\n",
       "    </tr>\n",
       "  </thead>\n",
       "  <tbody>\n",
       "    <tr>\n",
       "      <th>count</th>\n",
       "      <td>4686.000000</td>\n",
       "      <td>4679.000000</td>\n",
       "      <td>4254.000000</td>\n",
       "      <td>3716.000000</td>\n",
       "      <td>3732.000000</td>\n",
       "      <td>3732.000000</td>\n",
       "      <td>3732.000000</td>\n",
       "      <td>3956.000000</td>\n",
       "      <td>4033.000000</td>\n",
       "      <td>4254.000000</td>\n",
       "      <td>4033.000000</td>\n",
       "      <td>3716.000000</td>\n",
       "    </tr>\n",
       "    <tr>\n",
       "      <th>mean</th>\n",
       "      <td>2347.623986</td>\n",
       "      <td>91164.804873</td>\n",
       "      <td>1851.127174</td>\n",
       "      <td>0.669268</td>\n",
       "      <td>2.438907</td>\n",
       "      <td>0.319668</td>\n",
       "      <td>2.119239</td>\n",
       "      <td>1933.187816</td>\n",
       "      <td>1.578230</td>\n",
       "      <td>2.923601</td>\n",
       "      <td>0.309199</td>\n",
       "      <td>7.400431</td>\n",
       "    </tr>\n",
       "    <tr>\n",
       "      <th>std</th>\n",
       "      <td>1357.514045</td>\n",
       "      <td>15850.927112</td>\n",
       "      <td>470.436908</td>\n",
       "      <td>0.727933</td>\n",
       "      <td>1.161920</td>\n",
       "      <td>0.492135</td>\n",
       "      <td>0.978726</td>\n",
       "      <td>1752.794697</td>\n",
       "      <td>3.907397</td>\n",
       "      <td>14.496829</td>\n",
       "      <td>1.253510</td>\n",
       "      <td>44.248278</td>\n",
       "    </tr>\n",
       "    <tr>\n",
       "      <th>min</th>\n",
       "      <td>0.000000</td>\n",
       "      <td>10030.000000</td>\n",
       "      <td>0.000000</td>\n",
       "      <td>0.000000</td>\n",
       "      <td>0.000000</td>\n",
       "      <td>0.000000</td>\n",
       "      <td>0.000000</td>\n",
       "      <td>0.000000</td>\n",
       "      <td>0.000000</td>\n",
       "      <td>-2.000000</td>\n",
       "      <td>0.000000</td>\n",
       "      <td>0.000000</td>\n",
       "    </tr>\n",
       "    <tr>\n",
       "      <th>25%</th>\n",
       "      <td>1171.250000</td>\n",
       "      <td>94301.000000</td>\n",
       "      <td>1946.000000</td>\n",
       "      <td>0.000000</td>\n",
       "      <td>2.000000</td>\n",
       "      <td>0.000000</td>\n",
       "      <td>2.000000</td>\n",
       "      <td>1135.750000</td>\n",
       "      <td>0.000000</td>\n",
       "      <td>0.000000</td>\n",
       "      <td>0.000000</td>\n",
       "      <td>0.000000</td>\n",
       "    </tr>\n",
       "    <tr>\n",
       "      <th>50%</th>\n",
       "      <td>2346.500000</td>\n",
       "      <td>94590.000000</td>\n",
       "      <td>1971.000000</td>\n",
       "      <td>1.000000</td>\n",
       "      <td>2.000000</td>\n",
       "      <td>0.000000</td>\n",
       "      <td>2.000000</td>\n",
       "      <td>1583.000000</td>\n",
       "      <td>0.000000</td>\n",
       "      <td>2.000000</td>\n",
       "      <td>0.000000</td>\n",
       "      <td>0.000000</td>\n",
       "    </tr>\n",
       "    <tr>\n",
       "      <th>75%</th>\n",
       "      <td>3521.750000</td>\n",
       "      <td>95124.000000</td>\n",
       "      <td>1991.000000</td>\n",
       "      <td>1.000000</td>\n",
       "      <td>3.000000</td>\n",
       "      <td>1.000000</td>\n",
       "      <td>2.000000</td>\n",
       "      <td>2239.250000</td>\n",
       "      <td>0.000000</td>\n",
       "      <td>3.000000</td>\n",
       "      <td>0.000000</td>\n",
       "      <td>0.000000</td>\n",
       "    </tr>\n",
       "    <tr>\n",
       "      <th>max</th>\n",
       "      <td>4708.000000</td>\n",
       "      <td>95946.000000</td>\n",
       "      <td>2024.000000</td>\n",
       "      <td>6.000000</td>\n",
       "      <td>12.000000</td>\n",
       "      <td>4.000000</td>\n",
       "      <td>12.000000</td>\n",
       "      <td>30900.000000</td>\n",
       "      <td>40.000000</td>\n",
       "      <td>500.000000</td>\n",
       "      <td>20.000000</td>\n",
       "      <td>704.000000</td>\n",
       "    </tr>\n",
       "  </tbody>\n",
       "</table>\n",
       "</div>"
      ],
      "text/plain": [
       "             index       zipcode   Year Built  # of Fireplaces    Bathrooms  \\\n",
       "count  4686.000000   4679.000000  4254.000000      3716.000000  3732.000000   \n",
       "mean   2347.623986  91164.804873  1851.127174         0.669268     2.438907   \n",
       "std    1357.514045  15850.927112   470.436908         0.727933     1.161920   \n",
       "min       0.000000  10030.000000     0.000000         0.000000     0.000000   \n",
       "25%    1171.250000  94301.000000  1946.000000         0.000000     2.000000   \n",
       "50%    2346.500000  94590.000000  1971.000000         1.000000     2.000000   \n",
       "75%    3521.750000  95124.000000  1991.000000         1.000000     3.000000   \n",
       "max    4708.000000  95946.000000  2024.000000         6.000000    12.000000   \n",
       "\n",
       "       Half Bathrooms  Full Bathrooms  Square Footage   # of Rooms  \\\n",
       "count     3732.000000     3732.000000     3956.000000  4033.000000   \n",
       "mean         0.319668        2.119239     1933.187816     1.578230   \n",
       "std          0.492135        0.978726     1752.794697     3.907397   \n",
       "min          0.000000        0.000000        0.000000     0.000000   \n",
       "25%          0.000000        2.000000     1135.750000     0.000000   \n",
       "50%          0.000000        2.000000     1583.000000     0.000000   \n",
       "75%          1.000000        2.000000     2239.250000     0.000000   \n",
       "max          4.000000       12.000000    30900.000000    40.000000   \n",
       "\n",
       "       Total Parking Spaces  Open Parking Spaces   # of Units  \n",
       "count           4254.000000          4033.000000  3716.000000  \n",
       "mean               2.923601             0.309199     7.400431  \n",
       "std               14.496829             1.253510    44.248278  \n",
       "min               -2.000000             0.000000     0.000000  \n",
       "25%                0.000000             0.000000     0.000000  \n",
       "50%                2.000000             0.000000     0.000000  \n",
       "75%                3.000000             0.000000     0.000000  \n",
       "max              500.000000            20.000000   704.000000  "
      ]
     },
     "execution_count": 12,
     "metadata": {},
     "output_type": "execute_result"
    }
   ],
   "source": [
    "final.describe()"
   ]
  },
  {
   "cell_type": "code",
   "execution_count": 13,
   "metadata": {},
   "outputs": [
    {
     "data": {
      "text/plain": [
       "array([1900., 1988., 2017., 1923., 1962., 1955., 2024., 1983., 1975.,\n",
       "       1914., 1973., 1953., 1980., 1930., 1951., 1947., 1992., 1999.,\n",
       "       1952., 1906., 2004., 1965., 1928.,    0., 2002., 1959., 1979.,\n",
       "       1935., 1940., 1971., 1915., 1990., 1929., 1924., 2016., 1890.,\n",
       "         nan, 1941., 1945., 2012., 1946., 1974., 1917., 1996., 2019.,\n",
       "       2018., 1922., 1925., 1956., 1949., 1910., 1944., 2023., 1964.,\n",
       "       1927., 2008., 1950., 2020., 1903., 1993., 1943., 1931., 1960.,\n",
       "       1972., 1907., 2003., 1963., 1911., 1970., 1912., 1936., 1978.,\n",
       "       2000., 1938., 1966., 1984., 1918., 2007., 1909., 1919., 1977.,\n",
       "       1985., 1948., 1913., 1905., 1958., 1969., 1986., 1926., 1937.,\n",
       "       2022., 1968., 1957., 2013., 2005., 2009., 1981., 1987., 1933.,\n",
       "       1967., 1954., 1994., 1982., 1997., 1904., 1939., 1875., 2006.,\n",
       "       1916., 2015., 2014., 1908., 1961., 1942., 2001., 1989., 1921.,\n",
       "       1976., 1995., 1920., 1895., 1883., 2011., 2021., 1998., 2010.,\n",
       "       1991., 1901., 1882., 1932., 1934., 1902., 1860.])"
      ]
     },
     "execution_count": 13,
     "metadata": {},
     "output_type": "execute_result"
    }
   ],
   "source": [
    "final['Year Built'].unique()"
   ]
  },
  {
   "cell_type": "code",
   "execution_count": 14,
   "metadata": {},
   "outputs": [],
   "source": [
    "\n",
    "# Convert the 'Year Built' column to string\n",
    "final['Year Built'] = final['Year Built'].astype(str)\n",
    "\n",
    "# Replace '0.0' and 'nan' with 'NA'\n",
    "final['Year Built'] = final['Year Built'].replace({'0.0': 'NA', 'nan': 'NA'})"
   ]
  },
  {
   "cell_type": "code",
   "execution_count": 15,
   "metadata": {},
   "outputs": [
    {
     "data": {
      "text/plain": [
       "689"
      ]
     },
     "execution_count": 15,
     "metadata": {},
     "output_type": "execute_result"
    }
   ],
   "source": [
    "sum(final['Year Built'] == 'NA')"
   ]
  },
  {
   "cell_type": "code",
   "execution_count": null,
   "metadata": {},
   "outputs": [],
   "source": []
  },
  {
   "cell_type": "code",
   "execution_count": 16,
   "metadata": {},
   "outputs": [
    {
     "data": {
      "text/plain": [
       "array(['1900.0', '1988.0', '2017.0', '1923.0', '1962.0', '1955.0',\n",
       "       '2024.0', '1983.0', '1975.0', '1914.0', '1973.0', '1953.0',\n",
       "       '1980.0', '1930.0', '1951.0', '1947.0', '1992.0', '1999.0',\n",
       "       '1952.0', '1906.0', '2004.0', '1965.0', '1928.0', 'NA', '2002.0',\n",
       "       '1959.0', '1979.0', '1935.0', '1940.0', '1971.0', '1915.0',\n",
       "       '1990.0', '1929.0', '1924.0', '2016.0', '1890.0', '1941.0',\n",
       "       '1945.0', '2012.0', '1946.0', '1974.0', '1917.0', '1996.0',\n",
       "       '2019.0', '2018.0', '1922.0', '1925.0', '1956.0', '1949.0',\n",
       "       '1910.0', '1944.0', '2023.0', '1964.0', '1927.0', '2008.0',\n",
       "       '1950.0', '2020.0', '1903.0', '1993.0', '1943.0', '1931.0',\n",
       "       '1960.0', '1972.0', '1907.0', '2003.0', '1963.0', '1911.0',\n",
       "       '1970.0', '1912.0', '1936.0', '1978.0', '2000.0', '1938.0',\n",
       "       '1966.0', '1984.0', '1918.0', '2007.0', '1909.0', '1919.0',\n",
       "       '1977.0', '1985.0', '1948.0', '1913.0', '1905.0', '1958.0',\n",
       "       '1969.0', '1986.0', '1926.0', '1937.0', '2022.0', '1968.0',\n",
       "       '1957.0', '2013.0', '2005.0', '2009.0', '1981.0', '1987.0',\n",
       "       '1933.0', '1967.0', '1954.0', '1994.0', '1982.0', '1997.0',\n",
       "       '1904.0', '1939.0', '1875.0', '2006.0', '1916.0', '2015.0',\n",
       "       '2014.0', '1908.0', '1961.0', '1942.0', '2001.0', '1989.0',\n",
       "       '1921.0', '1976.0', '1995.0', '1920.0', '1895.0', '1883.0',\n",
       "       '2011.0', '2021.0', '1998.0', '2010.0', '1991.0', '1901.0',\n",
       "       '1882.0', '1932.0', '1934.0', '1902.0', '1860.0'], dtype=object)"
      ]
     },
     "execution_count": 16,
     "metadata": {},
     "output_type": "execute_result"
    }
   ],
   "source": [
    "final['Year Built'].unique()"
   ]
  },
  {
   "cell_type": "code",
   "execution_count": 17,
   "metadata": {},
   "outputs": [],
   "source": [
    "def remove(text):\n",
    "    text = str(text)\n",
    "    text = re.sub(r'\\.0$', '', text)\n",
    "    return text"
   ]
  },
  {
   "cell_type": "code",
   "execution_count": 18,
   "metadata": {},
   "outputs": [],
   "source": [
    "final['Year Built']= final['Year Built'].apply(remove)"
   ]
  },
  {
   "cell_type": "code",
   "execution_count": null,
   "metadata": {},
   "outputs": [],
   "source": [
    "final['Year Built'].unique()"
   ]
  },
  {
   "cell_type": "code",
   "execution_count": null,
   "metadata": {},
   "outputs": [],
   "source": [
    "final['zipcode'].unique()"
   ]
  },
  {
   "cell_type": "code",
   "execution_count": 21,
   "metadata": {},
   "outputs": [],
   "source": [
    "def remove2(text):\n",
    "    text = str(text)\n",
    "    text = re.sub(r'\\.0$', '', text)\n",
    "    return text\n",
    "\n",
    "final['zipcode'] = final['zipcode'].replace({'nan': 'NA'})"
   ]
  },
  {
   "cell_type": "code",
   "execution_count": 22,
   "metadata": {},
   "outputs": [],
   "source": [
    "final['zipcode'] = final['zipcode'].apply(remove2)"
   ]
  },
  {
   "cell_type": "code",
   "execution_count": null,
   "metadata": {},
   "outputs": [],
   "source": [
    "final['zipcode'].unique()"
   ]
  },
  {
   "cell_type": "code",
   "execution_count": 24,
   "metadata": {},
   "outputs": [
    {
     "data": {
      "text/plain": [
       "51"
      ]
     },
     "execution_count": 24,
     "metadata": {},
     "output_type": "execute_result"
    }
   ],
   "source": [
    "len(final.columns)"
   ]
  },
  {
   "cell_type": "code",
   "execution_count": null,
   "metadata": {},
   "outputs": [],
   "source": [
    "final.fillna('NA')"
   ]
  },
  {
   "cell_type": "code",
   "execution_count": null,
   "metadata": {},
   "outputs": [],
   "source": []
  },
  {
   "cell_type": "code",
   "execution_count": 26,
   "metadata": {},
   "outputs": [
    {
     "data": {
      "text/plain": [
       "'https://www.metrolist.com/search/For_Sale-For_Rent/Map%20Location/id_382-560693054/map_9qc6tuh0e;9qcvp1yn5'"
      ]
     },
     "execution_count": 26,
     "metadata": {},
     "output_type": "execute_result"
    }
   ],
   "source": [
    "final['listing_url'][4682]"
   ]
  },
  {
   "cell_type": "code",
   "execution_count": null,
   "metadata": {},
   "outputs": [],
   "source": [
    "final[['listing_url','listing_detail_price','listing_detail_label']]"
   ]
  },
  {
   "cell_type": "code",
   "execution_count": 28,
   "metadata": {},
   "outputs": [],
   "source": [
    "filtered_df = final[final['listing_detail_price'] == 'For Sale'][['listing_url', 'listing_detail_price', 'listing_detail_label']]\n",
    "\n"
   ]
  },
  {
   "cell_type": "code",
   "execution_count": 29,
   "metadata": {},
   "outputs": [],
   "source": [
    "final = final[final['listing_detail_price'] != 'For Sale'].reset_index(drop=True)"
   ]
  },
  {
   "cell_type": "code",
   "execution_count": 30,
   "metadata": {},
   "outputs": [
    {
     "name": "stdout",
     "output_type": "stream",
     "text": [
      "<class 'pandas.core.frame.DataFrame'>\n",
      "RangeIndex: 4252 entries, 0 to 4251\n",
      "Data columns (total 51 columns):\n",
      " #   Column                            Non-Null Count  Dtype  \n",
      "---  ------                            --------------  -----  \n",
      " 0   index                             4252 non-null   int64  \n",
      " 1   listing_url                       4252 non-null   object \n",
      " 2   zipcode                           4252 non-null   object \n",
      " 3   property_description              4196 non-null   object \n",
      " 4   Year Built                        4252 non-null   object \n",
      " 5   property_images                   4252 non-null   object \n",
      " 6   Property Condition                1547 non-null   object \n",
      " 7   listing_detail_price              4252 non-null   object \n",
      " 8   Dining Room Features              2136 non-null   object \n",
      " 9   Patio And Porch Features          1256 non-null   object \n",
      " 10  Living Room Features              1052 non-null   object \n",
      " 11  Window Features                   911 non-null    object \n",
      " 12  Bath Features                     1953 non-null   object \n",
      " 13  Parking Features                  3578 non-null   object \n",
      " 14  Master Bathroom Features          1333 non-null   object \n",
      " 15  Master Bedroom Features           1033 non-null   object \n",
      " 16  Cooling                           2458 non-null   object \n",
      " 17  Heating                           3445 non-null   object \n",
      " 18  Laundry Features                  3129 non-null   object \n",
      " 19  Lot Features                      2708 non-null   object \n",
      " 20  Interior Features                 1012 non-null   object \n",
      " 21  Kitchen Features                  2345 non-null   object \n",
      " 22  Association Features              864 non-null    object \n",
      " 23  Appliances                        2520 non-null   object \n",
      " 24  # of Fireplaces                   3335 non-null   float64\n",
      " 25  mls_number                        3099 non-null   object \n",
      " 26  Bathrooms                         3351 non-null   float64\n",
      " 27  Half Bathrooms                    3351 non-null   float64\n",
      " 28  Full Bathrooms                    3351 non-null   float64\n",
      " 29  Square Footage                    3565 non-null   float64\n",
      " 30  # of Rooms                        3636 non-null   float64\n",
      " 31  Area/District                     1132 non-null   object \n",
      " 32  listing_detail_monthly_cost       3955 non-null   object \n",
      " 33  Total Parking Spaces              3847 non-null   float64\n",
      " 34  Elementary School District        1833 non-null   object \n",
      " 35  Senior High School District       1800 non-null   object \n",
      " 36  Middle or Junior School District  744 non-null    object \n",
      " 37  Roof                              2506 non-null   object \n",
      " 38  agent_link                        4055 non-null   object \n",
      " 39  Listing Agent Name                4252 non-null   object \n",
      " 40  Listing Office Name               4252 non-null   object \n",
      " 41  Remodeled/Updated                 930 non-null    object \n",
      " 42  Open Parking Spaces               3636 non-null   float64\n",
      " 43  # of Units                        3335 non-null   float64\n",
      " 44  highlights_text                   4231 non-null   object \n",
      " 45  School District (County)          1938 non-null   object \n",
      " 46  Flooring                          2744 non-null   object \n",
      " 47  Architectural Style               1508 non-null   object \n",
      " 48  County                            4252 non-null   object \n",
      " 49  Pool                              2613 non-null   object \n",
      " 50  listing_detail_label              4252 non-null   object \n",
      "dtypes: float64(9), int64(1), object(41)\n",
      "memory usage: 1.7+ MB\n"
     ]
    }
   ],
   "source": [
    "final.info()"
   ]
  },
  {
   "cell_type": "code",
   "execution_count": 31,
   "metadata": {},
   "outputs": [
    {
     "data": {
      "text/plain": [
       "float"
      ]
     },
     "execution_count": 31,
     "metadata": {},
     "output_type": "execute_result"
    }
   ],
   "source": [
    "type(final['Window Features'].unique()[0])"
   ]
  },
  {
   "cell_type": "code",
   "execution_count": 32,
   "metadata": {},
   "outputs": [
    {
     "data": {
      "text/plain": [
       "nan"
      ]
     },
     "execution_count": 32,
     "metadata": {},
     "output_type": "execute_result"
    }
   ],
   "source": [
    "final['Window Features'].unique()[0]"
   ]
  },
  {
   "cell_type": "code",
   "execution_count": 33,
   "metadata": {},
   "outputs": [],
   "source": [
    "final = final.where(pd.notnull(final), None)\n",
    "final = final.map(lambda x: None if x==np.nan else x)"
   ]
  },
  {
   "cell_type": "code",
   "execution_count": 34,
   "metadata": {},
   "outputs": [
    {
     "data": {
      "text/plain": [
       "NoneType"
      ]
     },
     "execution_count": 34,
     "metadata": {},
     "output_type": "execute_result"
    }
   ],
   "source": [
    "type(final['Window Features'].unique()[0])"
   ]
  },
  {
   "cell_type": "code",
   "execution_count": 35,
   "metadata": {},
   "outputs": [
    {
     "name": "stdout",
     "output_type": "stream",
     "text": [
      "<class 'pandas.core.frame.DataFrame'>\n",
      "RangeIndex: 4252 entries, 0 to 4251\n",
      "Data columns (total 51 columns):\n",
      " #   Column                            Non-Null Count  Dtype  \n",
      "---  ------                            --------------  -----  \n",
      " 0   index                             4252 non-null   int64  \n",
      " 1   listing_url                       4252 non-null   object \n",
      " 2   zipcode                           4252 non-null   object \n",
      " 3   property_description              4196 non-null   object \n",
      " 4   Year Built                        4252 non-null   object \n",
      " 5   property_images                   4252 non-null   object \n",
      " 6   Property Condition                1547 non-null   object \n",
      " 7   listing_detail_price              4252 non-null   object \n",
      " 8   Dining Room Features              2136 non-null   object \n",
      " 9   Patio And Porch Features          1256 non-null   object \n",
      " 10  Living Room Features              1052 non-null   object \n",
      " 11  Window Features                   911 non-null    object \n",
      " 12  Bath Features                     1953 non-null   object \n",
      " 13  Parking Features                  3578 non-null   object \n",
      " 14  Master Bathroom Features          1333 non-null   object \n",
      " 15  Master Bedroom Features           1033 non-null   object \n",
      " 16  Cooling                           2458 non-null   object \n",
      " 17  Heating                           3445 non-null   object \n",
      " 18  Laundry Features                  3129 non-null   object \n",
      " 19  Lot Features                      2708 non-null   object \n",
      " 20  Interior Features                 1012 non-null   object \n",
      " 21  Kitchen Features                  2345 non-null   object \n",
      " 22  Association Features              864 non-null    object \n",
      " 23  Appliances                        2520 non-null   object \n",
      " 24  # of Fireplaces                   3335 non-null   float64\n",
      " 25  mls_number                        3099 non-null   object \n",
      " 26  Bathrooms                         3351 non-null   float64\n",
      " 27  Half Bathrooms                    3351 non-null   float64\n",
      " 28  Full Bathrooms                    3351 non-null   float64\n",
      " 29  Square Footage                    3565 non-null   float64\n",
      " 30  # of Rooms                        3636 non-null   float64\n",
      " 31  Area/District                     1132 non-null   object \n",
      " 32  listing_detail_monthly_cost       3955 non-null   object \n",
      " 33  Total Parking Spaces              3847 non-null   float64\n",
      " 34  Elementary School District        1833 non-null   object \n",
      " 35  Senior High School District       1800 non-null   object \n",
      " 36  Middle or Junior School District  744 non-null    object \n",
      " 37  Roof                              2506 non-null   object \n",
      " 38  agent_link                        4055 non-null   object \n",
      " 39  Listing Agent Name                4252 non-null   object \n",
      " 40  Listing Office Name               4252 non-null   object \n",
      " 41  Remodeled/Updated                 930 non-null    object \n",
      " 42  Open Parking Spaces               3636 non-null   float64\n",
      " 43  # of Units                        3335 non-null   float64\n",
      " 44  highlights_text                   4231 non-null   object \n",
      " 45  School District (County)          1938 non-null   object \n",
      " 46  Flooring                          2744 non-null   object \n",
      " 47  Architectural Style               1508 non-null   object \n",
      " 48  County                            4252 non-null   object \n",
      " 49  Pool                              2613 non-null   object \n",
      " 50  listing_detail_label              4252 non-null   object \n",
      "dtypes: float64(9), int64(1), object(41)\n",
      "memory usage: 1.7+ MB\n"
     ]
    }
   ],
   "source": [
    "final.info()"
   ]
  },
  {
   "cell_type": "code",
   "execution_count": 36,
   "metadata": {},
   "outputs": [],
   "source": [
    "import os\n",
    "from dotenv import load_dotenv\n",
    "load_dotenv()\n",
    "aws_access_key_id = os.getenv('AWS_ACCESS_KEY')\n",
    "aws_secret_access_key = os.getenv('AWS_SECRET_KEY')\n"
   ]
  },
  {
   "cell_type": "code",
   "execution_count": 37,
   "metadata": {},
   "outputs": [],
   "source": [
    "import boto3\n",
    "client = boto3.client('dynamodb', region_name='us-west-1', aws_access_key_id = aws_access_key_id, aws_secret_access_key = aws_secret_access_key)"
   ]
  },
  {
   "cell_type": "code",
   "execution_count": 38,
   "metadata": {},
   "outputs": [
    {
     "name": "stdout",
     "output_type": "stream",
     "text": [
      "<botocore.client.DynamoDB object at 0x0000018832A65410>\n"
     ]
    }
   ],
   "source": [
    "print(client)"
   ]
  },
  {
   "cell_type": "code",
   "execution_count": 39,
   "metadata": {},
   "outputs": [
    {
     "data": {
      "text/plain": [
       "str"
      ]
     },
     "execution_count": 39,
     "metadata": {},
     "output_type": "execute_result"
    }
   ],
   "source": [
    "type(final['property_images'][0])"
   ]
  },
  {
   "cell_type": "code",
   "execution_count": 40,
   "metadata": {},
   "outputs": [
    {
     "data": {
      "text/plain": [
       "\"['http://sfarmedia.rapmls.com/sfarmls/listingpics/bigphoto/2024/07/11/a903ec93-faa9-42c3-a28d-9084dab4bb8d.jpg', 'http://sfarmedia.rapmls.com/sfarmls/listingpics/bigphoto/2024/07/11/11f6137a-5f1d-499f-a09c-577f64e01f06.jpg', 'http://sfarmedia.rapmls.com/sfarmls/listingpics/bigphoto/2024/07/11/9afd70d4-847d-4452-abf8-0d8a8f3e38cf.jpg', 'http://sfarmedia.rapmls.com/sfarmls/listingpics/bigphoto/2024/07/11/60605317-3851-4560-b1b9-ac99be3be121.jpg', 'http://sfarmedia.rapmls.com/sfarmls/listingpics/bigphoto/2024/07/11/8975ff61-e056-45eb-8ce9-bcc86ba5e361.jpg', 'http://sfarmedia.rapmls.com/sfarmls/listingpics/bigphoto/2024/07/11/2a27557e-cc33-4c5c-9110-c5328c5c158c.jpg', 'http://sfarmedia.rapmls.com/sfarmls/listingpics/bigphoto/2024/07/11/53b3b085-c85d-4ddb-b1f5-bca49f3e759f.jpg', 'http://sfarmedia.rapmls.com/sfarmls/listingpics/bigphoto/2024/07/11/3b5a3ae0-3c73-43e4-8e20-476f20e5a9f6.jpg', 'http://sfarmedia.rapmls.com/sfarmls/listingpics/bigphoto/2024/07/11/a86f671f-239e-4747-9e3f-748108db87b2.jpg', 'http://sfarmedia.rapmls.com/sfarmls/listingpics/bigphoto/2024/07/11/e556d8bc-73d6-49d8-818c-b2fb89986ba1.jpg', 'http://sfarmedia.rapmls.com/sfarmls/listingpics/bigphoto/2024/07/11/e22b0927-77fd-4e7c-a6f5-36372dd6560b.jpg', 'http://sfarmedia.rapmls.com/sfarmls/listingpics/bigphoto/2024/07/11/1a27bf03-9a02-46a9-9cf9-2e1bf95c866d.jpg', 'http://sfarmedia.rapmls.com/sfarmls/listingpics/bigphoto/2024/07/11/4acf10e0-da37-443e-b3db-0a102f22279e.jpg', 'http://sfarmedia.rapmls.com/sfarmls/listingpics/bigphoto/2024/07/11/9f275550-dd07-4bc4-a2e6-76b53bafc32b.jpg', 'http://sfarmedia.rapmls.com/sfarmls/listingpics/bigphoto/2024/07/11/7cf1c1df-dd32-48f1-acb5-084f6d79c657.jpg', 'http://sfarmedia.rapmls.com/sfarmls/listingpics/bigphoto/2024/07/11/9b253fa7-e769-4933-ad81-9a78ef19c445.jpg', 'http://sfarmedia.rapmls.com/sfarmls/listingpics/bigphoto/2024/07/11/ac2b904f-2f47-48a7-b7b8-dff9c7e2c237.jpg', 'http://sfarmedia.rapmls.com/sfarmls/listingpics/bigphoto/2024/07/11/9c994777-13b6-47db-95a3-ea429bce6916.jpg', 'http://sfarmedia.rapmls.com/sfarmls/listingpics/bigphoto/2024/07/11/2ee74514-0094-4633-89ae-a340eaaf3208.jpg', 'http://sfarmedia.rapmls.com/sfarmls/listingpics/bigphoto/2024/07/11/8fb64736-ef27-49fd-99f5-1f08ec8a9a8a.jpg', 'http://sfarmedia.rapmls.com/sfarmls/listingpics/bigphoto/2024/07/11/71cf5488-8ac2-402b-90c9-88be0c2b3a62.jpg', 'http://sfarmedia.rapmls.com/sfarmls/listingpics/bigphoto/2024/07/11/510f3611-f099-424d-afcb-acaa2f877806.jpg', 'http://sfarmedia.rapmls.com/sfarmls/listingpics/bigphoto/2024/07/11/4ca96af4-f086-41e9-bc24-4d3bed45bb5e.jpg', 'http://sfarmedia.rapmls.com/sfarmls/listingpics/bigphoto/2024/07/11/fbe75501-6a62-428e-a08a-560ea761e467.jpg', 'http://sfarmedia.rapmls.com/sfarmls/listingpics/bigphoto/2024/07/11/2932a278-602f-4201-9761-9d6638344e9a.jpg', 'http://sfarmedia.rapmls.com/sfarmls/listingpics/bigphoto/2024/07/11/af412744-5dd1-4ba6-8a17-46773eb80fa5.jpg', 'http://sfarmedia.rapmls.com/sfarmls/listingpics/bigphoto/2024/07/11/19bc7c29-4c8e-454c-963d-ea20d2e09348.jpg', 'http://sfarmedia.rapmls.com/sfarmls/listingpics/bigphoto/2024/07/11/f70d5981-8459-40aa-9bc8-d8bf589f39a2.jpg']\""
      ]
     },
     "execution_count": 40,
     "metadata": {},
     "output_type": "execute_result"
    }
   ],
   "source": [
    "final['property_images'][0]"
   ]
  },
  {
   "cell_type": "code",
   "execution_count": 41,
   "metadata": {},
   "outputs": [],
   "source": [
    "final['property_images'] = final['property_images'].apply(lambda x : x.replace(\"'\",\"\").replace(\"[\",\"\").replace(\"]\",\"\").split(','))"
   ]
  },
  {
   "cell_type": "code",
   "execution_count": 42,
   "metadata": {},
   "outputs": [],
   "source": [
    "# rank default 1\n",
    "# num_views default 0\n",
    "# num_clicks: default 0\n",
    "\n",
    "final['rank'] = [int(1) for _ in range(len(final))]\n",
    "final['num_views'] = [int(0) for _ in range(len(final))]\n",
    "final['num_clicks'] = [int(0) for _ in range(len(final))]"
   ]
  },
  {
   "cell_type": "code",
   "execution_count": 43,
   "metadata": {},
   "outputs": [
    {
     "name": "stdout",
     "output_type": "stream",
     "text": [
      "0    1\n",
      "1    1\n",
      "2    1\n",
      "3    1\n",
      "4    1\n",
      "Name: rank, dtype: int64\n",
      "0    0\n",
      "1    0\n",
      "2    0\n",
      "3    0\n",
      "4    0\n",
      "Name: num_views, dtype: int64\n",
      "0    0\n",
      "1    0\n",
      "2    0\n",
      "3    0\n",
      "4    0\n",
      "Name: num_clicks, dtype: int64\n"
     ]
    }
   ],
   "source": [
    "print(final['rank'].head())\n",
    "print(final['num_views'].head())\n",
    "print(final['num_clicks'].head())"
   ]
  },
  {
   "cell_type": "code",
   "execution_count": 44,
   "metadata": {},
   "outputs": [],
   "source": [
    "# rename the columns\n",
    "def normalize_columns(df: pd.DataFrame) -> pd.DataFrame:\n",
    "    df.columns = df.columns.str.lower().str.replace(' ', '_')\n",
    "    return df"
   ]
  },
  {
   "cell_type": "code",
   "execution_count": 45,
   "metadata": {},
   "outputs": [],
   "source": [
    "final = normalize_columns(final)\n",
    "final.drop('index',axis=1,inplace=True)"
   ]
  },
  {
   "cell_type": "code",
   "execution_count": null,
   "metadata": {},
   "outputs": [],
   "source": []
  },
  {
   "cell_type": "code",
   "execution_count": 46,
   "metadata": {},
   "outputs": [],
   "source": [
    "final['listings_detail_label'] = final['listing_detail_label']\n",
    "final.drop('listing_detail_label',axis = 1,inplace=True) "
   ]
  },
  {
   "cell_type": "code",
   "execution_count": 47,
   "metadata": {},
   "outputs": [],
   "source": [
    "def convert_to_dynamodb_item(row):\n",
    "    item = {}\n",
    "    for key, value in row.items():\n",
    "        \n",
    "        if isinstance(value, int):\n",
    "            item[key] = {'N': str(value)}\n",
    "        elif isinstance(value, float):\n",
    "            item[key] = {'N': str(value)}\n",
    "        elif isinstance(value, bool):\n",
    "            item[key] = {'BOOL': value}\n",
    "        elif key == 'property_images':\n",
    "            item[key] = {'SS': list(set(value))}\n",
    "        else:\n",
    "            item[key] = {'S': str(value)}\n",
    "\n",
    "    return item"
   ]
  },
  {
   "cell_type": "code",
   "execution_count": 48,
   "metadata": {},
   "outputs": [],
   "source": [
    "dynamodb_items = final.apply(convert_to_dynamodb_item, axis=1).tolist()"
   ]
  },
  {
   "cell_type": "code",
   "execution_count": 49,
   "metadata": {},
   "outputs": [
    {
     "data": {
      "text/plain": [
       "list"
      ]
     },
     "execution_count": 49,
     "metadata": {},
     "output_type": "execute_result"
    }
   ],
   "source": [
    "type(dynamodb_items)"
   ]
  },
  {
   "cell_type": "code",
   "execution_count": null,
   "metadata": {},
   "outputs": [],
   "source": [
    "dynamodb_items"
   ]
  },
  {
   "cell_type": "code",
   "execution_count": 51,
   "metadata": {},
   "outputs": [
    {
     "data": {
      "text/plain": [
       "Index(['listing_url', 'zipcode', 'property_description', 'year_built',\n",
       "       'property_images', 'property_condition', 'listing_detail_price',\n",
       "       'dining_room_features', 'patio_and_porch_features',\n",
       "       'living_room_features', 'window_features', 'bath_features',\n",
       "       'parking_features', 'master_bathroom_features',\n",
       "       'master_bedroom_features', 'cooling', 'heating', 'laundry_features',\n",
       "       'lot_features', 'interior_features', 'kitchen_features',\n",
       "       'association_features', 'appliances', '#_of_fireplaces', 'mls_number',\n",
       "       'bathrooms', 'half_bathrooms', 'full_bathrooms', 'square_footage',\n",
       "       '#_of_rooms', 'area/district', 'listing_detail_monthly_cost',\n",
       "       'total_parking_spaces', 'elementary_school_district',\n",
       "       'senior_high_school_district', 'middle_or_junior_school_district',\n",
       "       'roof', 'agent_link', 'listing_agent_name', 'listing_office_name',\n",
       "       'remodeled/updated', 'open_parking_spaces', '#_of_units',\n",
       "       'highlights_text', 'school_district_(county)', 'flooring',\n",
       "       'architectural_style', 'county', 'pool', 'rank', 'num_views',\n",
       "       'num_clicks', 'listings_detail_label'],\n",
       "      dtype='object')"
      ]
     },
     "execution_count": 51,
     "metadata": {},
     "output_type": "execute_result"
    }
   ],
   "source": [
    "final.columns"
   ]
  },
  {
   "cell_type": "code",
   "execution_count": 52,
   "metadata": {},
   "outputs": [
    {
     "data": {
      "text/plain": [
       "{'S': '932 Hampshire St #A San Francisco, CA 94110'}"
      ]
     },
     "execution_count": 52,
     "metadata": {},
     "output_type": "execute_result"
    }
   ],
   "source": [
    "dynamodb_items[0]['listings_detail_label']"
   ]
  },
  {
   "cell_type": "code",
   "execution_count": 53,
   "metadata": {},
   "outputs": [],
   "source": [
    "def convert_nan_to_none(dynamodb_items):\n",
    "    def convert_item(item):\n",
    "        for key, value in item.items():\n",
    "            if 'N' in value and value['N'] == 'nan':\n",
    "                item[key] = {'N': '-1'}\n",
    "        return item\n",
    "\n",
    "    return [convert_item(item) for item in dynamodb_items]"
   ]
  },
  {
   "cell_type": "code",
   "execution_count": 54,
   "metadata": {},
   "outputs": [],
   "source": [
    "dynamodb_items = convert_nan_to_none(dynamodb_items=dynamodb_items)"
   ]
  },
  {
   "cell_type": "code",
   "execution_count": null,
   "metadata": {},
   "outputs": [],
   "source": [
    "dynamodb_items[20]"
   ]
  },
  {
   "cell_type": "code",
   "execution_count": 56,
   "metadata": {},
   "outputs": [],
   "source": [
    "# rank default 1\n",
    "# num_views default 0\n",
    "# num_clicks: default 0"
   ]
  },
  {
   "cell_type": "code",
   "execution_count": 57,
   "metadata": {},
   "outputs": [],
   "source": [
    "from botocore.exceptions import ClientError\n",
    "def add_item_with_duplicate_check(table_name, item):\n",
    "    try:\n",
    "        response = client.put_item(\n",
    "            TableName=table_name,\n",
    "            Item=item,\n",
    "            ConditionExpression=\"attribute_not_exists(PrimaryKeyName)\"  # Replace 'PrimaryKeyName' with your primary key's name\n",
    "        )\n",
    "        return response\n",
    "    except ClientError as e:\n",
    "        if e.response['Error']['Code'] == 'ConditionalCheckFailedException':\n",
    "            print(f\"Duplicate item skipped: {item}\")\n",
    "        else:\n",
    "            print(f\"Error occurred: {e}\")\n",
    "        return None"
   ]
  },
  {
   "cell_type": "code",
   "execution_count": null,
   "metadata": {},
   "outputs": [],
   "source": [
    "for item in dynamodb_items:\n",
    "    print(f\"Processing item: {item}\")\n",
    "    response = add_item_with_duplicate_check(\"dre_listings\", item)\n",
    "    if response:\n",
    "        print(\"Item added successfully.\")\n",
    "    else:\n",
    "        print(\"Item not added.\")\n",
    "    \n",
    "\n"
   ]
  },
  {
   "cell_type": "code",
   "execution_count": null,
   "metadata": {},
   "outputs": [],
   "source": [
    "\n"
   ]
  }
 ],
 "metadata": {
  "kernelspec": {
   "display_name": "Python 3",
   "language": "python",
   "name": "python3"
  },
  "language_info": {
   "codemirror_mode": {
    "name": "ipython",
    "version": 3
   },
   "file_extension": ".py",
   "mimetype": "text/x-python",
   "name": "python",
   "nbconvert_exporter": "python",
   "pygments_lexer": "ipython3",
   "version": "3.11.9"
  }
 },
 "nbformat": 4,
 "nbformat_minor": 2
}
